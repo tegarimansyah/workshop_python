{
 "cells": [
  {
   "cell_type": "code",
   "execution_count": 3,
   "metadata": {},
   "outputs": [
    {
     "name": "stdout",
     "output_type": "stream",
     "text": [
      "Python Version :  3.6.3 (default, Oct  3 2017, 21:45:48) \n",
      "[GCC 7.2.0]\n"
     ]
    }
   ],
   "source": [
    "import sys\n",
    "print(\"Python Version : \", str(sys.version))"
   ]
  },
  {
   "cell_type": "code",
   "execution_count": 14,
   "metadata": {},
   "outputs": [
    {
     "name": "stdout",
     "output_type": "stream",
     "text": [
      "The Zen of Python, by Tim Peters\n",
      "\n",
      "Beautiful is better than ugly.\n",
      "Explicit is better than implicit.\n",
      "Simple is better than complex.\n",
      "Complex is better than complicated.\n",
      "Flat is better than nested.\n",
      "Sparse is better than dense.\n",
      "Readability counts.\n",
      "Special cases aren't special enough to break the rules.\n",
      "Although practicality beats purity.\n",
      "Errors should never pass silently.\n",
      "Unless explicitly silenced.\n",
      "In the face of ambiguity, refuse the temptation to guess.\n",
      "There should be one-- and preferably only one --obvious way to do it.\n",
      "Although that way may not be obvious at first unless you're Dutch.\n",
      "Now is better than never.\n",
      "Although never is often better than *right* now.\n",
      "If the implementation is hard to explain, it's a bad idea.\n",
      "If the implementation is easy to explain, it may be a good idea.\n",
      "Namespaces are one honking great idea -- let's do more of those!\n"
     ]
    }
   ],
   "source": [
    "import this"
   ]
  },
  {
   "cell_type": "markdown",
   "metadata": {},
   "source": [
    "## Basic Python\n",
    "\n",
    "Penggunaan fungsi print, menyimpan dan menampilkan variabel"
   ]
  },
  {
   "cell_type": "code",
   "execution_count": 11,
   "metadata": {},
   "outputs": [
    {
     "name": "stdout",
     "output_type": "stream",
     "text": [
      "Hello World dengan petik dua\n",
      "Hello World dengan petik satu\n",
      "Budi mengatakan \"halo, ini hari jum'at\" \n",
      "\n",
      "Setelah ini baris baru\n",
      "Baris baru\n"
     ]
    }
   ],
   "source": [
    "# Untuk awal belajar menampilkan teks pada command line\n",
    "\n",
    "print(\"Hello World dengan petik dua\")\n",
    "print('Hello World dengan petik satu')\n",
    "print('Budi mengatakan \"halo, ini hari jum\\'at\" ')\n",
    "print() # Cetak Enter\n",
    "print('Setelah ini baris baru\\nBaris baru')"
   ]
  },
  {
   "cell_type": "code",
   "execution_count": 43,
   "metadata": {},
   "outputs": [
    {
     "name": "stdout",
     "output_type": "stream",
     "text": [
      "10\n"
     ]
    }
   ],
   "source": [
    "# Sekarang bermain dengan variabel\n",
    "nilai = 10 # Variabel dengan tipe data integer\n",
    "print(nilai) # Cetak teks dan variabel dalam satu file"
   ]
  },
  {
   "cell_type": "code",
   "execution_count": 12,
   "metadata": {
    "scrolled": false
   },
   "outputs": [
    {
     "ename": "NameError",
     "evalue": "name 'nilai' is not defined",
     "output_type": "error",
     "traceback": [
      "\u001b[0;31m---------------------------------------------------------------------------\u001b[0m",
      "\u001b[0;31mNameError\u001b[0m                                 Traceback (most recent call last)",
      "\u001b[0;32m<ipython-input-12-18ada037eef6>\u001b[0m in \u001b[0;36m<module>\u001b[0;34m()\u001b[0m\n\u001b[0;32m----> 1\u001b[0;31m \u001b[0mpesan\u001b[0m \u001b[0;34m=\u001b[0m \u001b[0;34m\"Nilai Ujian kamu \"\u001b[0m \u001b[0;34m+\u001b[0m \u001b[0mnilai\u001b[0m \u001b[0;34m+\u001b[0m \u001b[0;34m\", Selamat!\"\u001b[0m\u001b[0;34m\u001b[0m\u001b[0m\n\u001b[0m\u001b[1;32m      2\u001b[0m \u001b[0mprint\u001b[0m\u001b[0;34m(\u001b[0m\u001b[0mpesan\u001b[0m\u001b[0;34m)\u001b[0m\u001b[0;34m\u001b[0m\u001b[0m\n",
      "\u001b[0;31mNameError\u001b[0m: name 'nilai' is not defined"
     ]
    }
   ],
   "source": [
    "pesan = \"Nilai Ujian kamu \" + nilai + \", Selamat!\"\n",
    "print(pesan)"
   ]
  },
  {
   "cell_type": "code",
   "execution_count": 50,
   "metadata": {},
   "outputs": [
    {
     "name": "stdout",
     "output_type": "stream",
     "text": [
      "Nilai Ujian kamu 9, Selamat!\n"
     ]
    }
   ],
   "source": [
    "pesan = \"Nilai ujian kamu \" + str(nilai) + \", Selamat!\"\n",
    "print(pesan)"
   ]
  },
  {
   "cell_type": "code",
   "execution_count": 51,
   "metadata": {},
   "outputs": [
    {
     "name": "stdout",
     "output_type": "stream",
     "text": [
      "Nilai Ujian kamu 9, Selamat!\n"
     ]
    }
   ],
   "source": [
    "print(\"Nilai ujian kamu \" + str(nilai) + \", Selamat!\")"
   ]
  },
  {
   "cell_type": "code",
   "execution_count": 13,
   "metadata": {},
   "outputs": [
    {
     "name": "stdout",
     "output_type": "stream",
     "text": [
      "hello world\n"
     ]
    }
   ],
   "source": [
    "a = 'hello '\n",
    "b = 'world'\n",
    "print(a+b)"
   ]
  },
  {
   "cell_type": "code",
   "execution_count": 52,
   "metadata": {},
   "outputs": [
    {
     "name": "stdout",
     "output_type": "stream",
     "text": [
      "Nilai Ujian kamu  9 , Selamat!\n"
     ]
    }
   ],
   "source": [
    "print(\"Nilai ujian kamu \", nilai, \" Selamat!\")"
   ]
  },
  {
   "cell_type": "code",
   "execution_count": 53,
   "metadata": {},
   "outputs": [
    {
     "name": "stdout",
     "output_type": "stream",
     "text": [
      "Nilai Ujian kamu 9, Selamat!\n"
     ]
    }
   ],
   "source": [
    "print(\"Nilai ujian kamu %d, Selamat!\" % (nilai) )"
   ]
  },
  {
   "cell_type": "code",
   "execution_count": 18,
   "metadata": {},
   "outputs": [
    {
     "name": "stdout",
     "output_type": "stream",
     "text": [
      "10 Tes 0.050000\n"
     ]
    }
   ],
   "source": [
    "a = 10\n",
    "b = 'Tes'\n",
    "c = 0.05\n",
    "print(\"%d %s %f\" % (a, b, c) )"
   ]
  },
  {
   "cell_type": "code",
   "execution_count": 25,
   "metadata": {},
   "outputs": [
    {
     "name": "stdout",
     "output_type": "stream",
     "text": [
      "1519206630.866357\n",
      "1519206630.87\n"
     ]
    }
   ],
   "source": [
    "import time\n",
    "d = time.time()\n",
    "print(d)\n",
    "print('%.2f' % (d))"
   ]
  },
  {
   "cell_type": "markdown",
   "metadata": {},
   "source": [
    "## Mengetahui Tipe Data Variabel"
   ]
  },
  {
   "cell_type": "code",
   "execution_count": 39,
   "metadata": {},
   "outputs": [
    {
     "name": "stdout",
     "output_type": "stream",
     "text": [
      "Variabel a =  10  dengan tipe data  <class 'int'>\n"
     ]
    }
   ],
   "source": [
    "a = 10\n",
    "print('Variabel a = ', a, ' dengan tipe data ', type(a)) # Cetak teks, variabel dan tipe datanya"
   ]
  },
  {
   "cell_type": "code",
   "execution_count": 40,
   "metadata": {},
   "outputs": [
    {
     "name": "stdout",
     "output_type": "stream",
     "text": [
      "Variabel a =  10.0  dengan tipe data  <class 'float'>\n"
     ]
    }
   ],
   "source": [
    "a = 10.0 # Variabel dengan tipe data float\n",
    "print('Variabel a = ', a, ' dengan tipe data ', type(a)) # Cetak teks, variabel dan tipe datanya"
   ]
  },
  {
   "cell_type": "code",
   "execution_count": 41,
   "metadata": {},
   "outputs": [
    {
     "name": "stdout",
     "output_type": "stream",
     "text": [
      "Variabel a =  10  dengan tipe data  <class 'str'>\n"
     ]
    }
   ],
   "source": [
    "a = '10' # Variabel dengan tipe data string\n",
    "print('Variabel a = ', a, ' dengan tipe data ', type(a)) # Cetak teks, variabel dan tipe datanya"
   ]
  },
  {
   "cell_type": "code",
   "execution_count": 32,
   "metadata": {},
   "outputs": [
    {
     "name": "stdout",
     "output_type": "stream",
     "text": [
      "Variabel a =  True  dengan tipe data  <class 'bool'>\n"
     ]
    }
   ],
   "source": [
    "a = True # Variabel dengan tipe data boolean\n",
    "print('Variabel a = ', a, ' dengan tipe data ', type(a)) # Cetak teks, variabel dan tipe datanya"
   ]
  },
  {
   "cell_type": "markdown",
   "metadata": {},
   "source": [
    "## Operasi Dasar Variabel"
   ]
  },
  {
   "cell_type": "code",
   "execution_count": 6,
   "metadata": {},
   "outputs": [
    {
     "name": "stdout",
     "output_type": "stream",
     "text": [
      "5\n",
      "1\n",
      "6\n",
      "1.5\n"
     ]
    }
   ],
   "source": [
    "print(2 + 3)\n",
    "print(3 - 2)\n",
    "print(2 * 3)\n",
    "print(3 / 2)"
   ]
  },
  {
   "cell_type": "code",
   "execution_count": 36,
   "metadata": {},
   "outputs": [
    {
     "name": "stdout",
     "output_type": "stream",
     "text": [
      "9\n",
      "27\n",
      "1000000\n"
     ]
    }
   ],
   "source": [
    "print(3 ** 2)\n",
    "print(3 ** 3)\n",
    "print(10 ** 6)"
   ]
  },
  {
   "cell_type": "code",
   "execution_count": 8,
   "metadata": {},
   "outputs": [
    {
     "name": "stdout",
     "output_type": "stream",
     "text": [
      "14\n",
      "20\n"
     ]
    }
   ],
   "source": [
    "print(2 + 3*4)\n",
    "print((2 + 3) * 4)"
   ]
  },
  {
   "cell_type": "code",
   "execution_count": 55,
   "metadata": {},
   "outputs": [
    {
     "name": "stdout",
     "output_type": "stream",
     "text": [
      "0.6666666666666666\n"
     ]
    }
   ],
   "source": [
    "print(2/3)"
   ]
  },
  {
   "cell_type": "code",
   "execution_count": 39,
   "metadata": {},
   "outputs": [
    {
     "name": "stdout",
     "output_type": "stream",
     "text": [
      "0.667\n"
     ]
    }
   ],
   "source": [
    "print(round(2/3, 3))"
   ]
  },
  {
   "cell_type": "code",
   "execution_count": 19,
   "metadata": {},
   "outputs": [
    {
     "name": "stdout",
     "output_type": "stream",
     "text": [
      "hello hello hello hello hello \n"
     ]
    }
   ],
   "source": [
    "print(\"hello \" * 5)"
   ]
  },
  {
   "cell_type": "markdown",
   "metadata": {},
   "source": [
    "## List"
   ]
  },
  {
   "cell_type": "code",
   "execution_count": 46,
   "metadata": {},
   "outputs": [
    {
     "name": "stdout",
     "output_type": "stream",
     "text": [
      "[10, 11, 12] <class 'list'>\n",
      "3\n"
     ]
    }
   ],
   "source": [
    "a = [10, 11, 12]\n",
    "print(a, type(a))\n",
    "print(len(a))"
   ]
  },
  {
   "cell_type": "code",
   "execution_count": 47,
   "metadata": {},
   "outputs": [
    {
     "name": "stdout",
     "output_type": "stream",
     "text": [
      "10 <class 'int'>\n"
     ]
    }
   ],
   "source": [
    "print(a[0], type(a[0]))"
   ]
  },
  {
   "cell_type": "code",
   "execution_count": 67,
   "metadata": {},
   "outputs": [
    {
     "name": "stdout",
     "output_type": "stream",
     "text": [
      "[0, 1.0, '12.3'] <class 'list'>\n",
      "<class 'int'> <class 'float'> <class 'str'>\n",
      "0.0 <class 'float'>\n",
      "1.0 <class 'float'>\n",
      "12.3 <class 'float'>\n"
     ]
    }
   ],
   "source": [
    "b = [0, 1.0, \"12.3\"]\n",
    "print(b, type(b))\n",
    "print(type(b[0]), type(b[1]), type(b[2]))\n",
    "\n",
    "for x in range(0,len(b)):\n",
    "    print( float(b[x]), type(float(b[x])) )"
   ]
  },
  {
   "cell_type": "code",
   "execution_count": 65,
   "metadata": {},
   "outputs": [
    {
     "data": {
      "text/plain": [
       "'23.0'"
      ]
     },
     "execution_count": 65,
     "metadata": {},
     "output_type": "execute_result"
    }
   ],
   "source": [
    "datas = [\n",
    "    '123,123',\n",
    "    '321.321',\n",
    "    '23.0'\n",
    "]\n",
    "\n",
    "data = datas[2].replace(',','.')\n",
    "\n",
    "data"
   ]
  },
  {
   "cell_type": "code",
   "execution_count": 69,
   "metadata": {},
   "outputs": [
    {
     "data": {
      "text/plain": [
       "[0, 1, 2, 3, 4, 5, 6, 7, 8, 9, 10, 11, 12, 13, 14]"
      ]
     },
     "execution_count": 69,
     "metadata": {},
     "output_type": "execute_result"
    }
   ],
   "source": [
    "c = [0, 1, 2, 3, 4, 5, 6, 7, 8, 9, 10, 11, 12, 13, 14]\n",
    "c"
   ]
  },
  {
   "cell_type": "code",
   "execution_count": 179,
   "metadata": {},
   "outputs": [
    {
     "data": {
      "text/plain": [
       "[5, 6, 7, 8, 9, 10, 11, 12, 13, 14]"
      ]
     },
     "execution_count": 179,
     "metadata": {},
     "output_type": "execute_result"
    }
   ],
   "source": [
    "c[5:]"
   ]
  },
  {
   "cell_type": "code",
   "execution_count": 180,
   "metadata": {},
   "outputs": [
    {
     "data": {
      "text/plain": [
       "[0, 1, 2, 3, 4]"
      ]
     },
     "execution_count": 180,
     "metadata": {},
     "output_type": "execute_result"
    }
   ],
   "source": [
    "c[:5]"
   ]
  },
  {
   "cell_type": "code",
   "execution_count": 181,
   "metadata": {
    "scrolled": true
   },
   "outputs": [
    {
     "data": {
      "text/plain": [
       "[7, 8, 9]"
      ]
     },
     "execution_count": 181,
     "metadata": {},
     "output_type": "execute_result"
    }
   ],
   "source": [
    "c[7:10]"
   ]
  },
  {
   "cell_type": "code",
   "execution_count": 182,
   "metadata": {},
   "outputs": [
    {
     "data": {
      "text/plain": [
       "14"
      ]
     },
     "execution_count": 182,
     "metadata": {},
     "output_type": "execute_result"
    }
   ],
   "source": [
    "c[-1]"
   ]
  },
  {
   "cell_type": "code",
   "execution_count": 183,
   "metadata": {},
   "outputs": [
    {
     "data": {
      "text/plain": [
       "[0, 1, 2, 3, 4, 5, 6, 7, 8, 9, 10, 11, 12, 13]"
      ]
     },
     "execution_count": 183,
     "metadata": {},
     "output_type": "execute_result"
    }
   ],
   "source": [
    "c[:-1]"
   ]
  },
  {
   "cell_type": "code",
   "execution_count": 72,
   "metadata": {},
   "outputs": [
    {
     "data": {
      "text/plain": [
       "[5, 6, 7, 8, 9, 10, 11, 12, 13, 14]"
      ]
     },
     "execution_count": 72,
     "metadata": {},
     "output_type": "execute_result"
    }
   ],
   "source": [
    "c[-10:]"
   ]
  },
  {
   "cell_type": "code",
   "execution_count": 184,
   "metadata": {},
   "outputs": [
    {
     "ename": "IndexError",
     "evalue": "list index out of range",
     "output_type": "error",
     "traceback": [
      "\u001b[0;31m---------------------------------------------------------------------------\u001b[0m",
      "\u001b[0;31mIndexError\u001b[0m                                Traceback (most recent call last)",
      "\u001b[0;32m<ipython-input-184-9bdecae4a2e0>\u001b[0m in \u001b[0;36m<module>\u001b[0;34m()\u001b[0m\n\u001b[1;32m      1\u001b[0m \u001b[0;31m# Mengeluarkan error\u001b[0m\u001b[0;34m\u001b[0m\u001b[0;34m\u001b[0m\u001b[0m\n\u001b[0;32m----> 2\u001b[0;31m \u001b[0mc\u001b[0m\u001b[0;34m[\u001b[0m\u001b[0;36m20\u001b[0m\u001b[0;34m]\u001b[0m\u001b[0;34m\u001b[0m\u001b[0m\n\u001b[0m",
      "\u001b[0;31mIndexError\u001b[0m: list index out of range"
     ]
    }
   ],
   "source": [
    "# Mengeluarkan error\n",
    "c[20]"
   ]
  },
  {
   "cell_type": "code",
   "execution_count": 79,
   "metadata": {},
   "outputs": [
    {
     "data": {
      "text/plain": [
       "[[1, 2, 3, 4, 5], [5, 4, 3, 2, 1]]"
      ]
     },
     "execution_count": 79,
     "metadata": {},
     "output_type": "execute_result"
    }
   ],
   "source": [
    "d = [\n",
    "    [1,2,3,4,5],\n",
    "    [5,4,3,2,1],\n",
    "    [10,5,3,7,3]\n",
    "]\n",
    "d"
   ]
  },
  {
   "cell_type": "code",
   "execution_count": 80,
   "metadata": {},
   "outputs": [
    {
     "data": {
      "text/plain": [
       "2"
      ]
     },
     "execution_count": 80,
     "metadata": {},
     "output_type": "execute_result"
    }
   ],
   "source": [
    "len(d)"
   ]
  },
  {
   "cell_type": "code",
   "execution_count": 139,
   "metadata": {},
   "outputs": [
    {
     "data": {
      "text/plain": [
       "[1, 2, 3, 4, 5]"
      ]
     },
     "execution_count": 139,
     "metadata": {},
     "output_type": "execute_result"
    }
   ],
   "source": [
    "d[0]"
   ]
  },
  {
   "cell_type": "code",
   "execution_count": 81,
   "metadata": {},
   "outputs": [
    {
     "data": {
      "text/plain": [
       "1"
      ]
     },
     "execution_count": 81,
     "metadata": {},
     "output_type": "execute_result"
    }
   ],
   "source": [
    "d[0][0]"
   ]
  },
  {
   "cell_type": "code",
   "execution_count": null,
   "metadata": {},
   "outputs": [],
   "source": [
    "databaru = (d[0][0] + d[0][1] + d[1][0] + d[1][1]) / 4"
   ]
  },
  {
   "cell_type": "markdown",
   "metadata": {},
   "source": [
    "## Looping"
   ]
  },
  {
   "cell_type": "code",
   "execution_count": 143,
   "metadata": {},
   "outputs": [
    {
     "name": "stdout",
     "output_type": "stream",
     "text": [
      "senin\n",
      "selasa\n",
      "rabu\n",
      "kamis\n",
      "jumat\n",
      "sabtu\n",
      "minggu\n"
     ]
    }
   ],
   "source": [
    "days = ['senin','selasa','rabu','kamis','jumat','sabtu','minggu']\n",
    "for day in days:\n",
    "    print(day)"
   ]
  },
  {
   "cell_type": "code",
   "execution_count": 146,
   "metadata": {},
   "outputs": [
    {
     "name": "stdout",
     "output_type": "stream",
     "text": [
      "senin\n",
      "ini masuk dalam looping\n",
      "\n",
      "selasa\n",
      "ini masuk dalam looping\n",
      "\n",
      "rabu\n",
      "ini masuk dalam looping\n",
      "\n",
      "kamis\n",
      "ini masuk dalam looping\n",
      "\n",
      "jumat\n",
      "ini masuk dalam looping\n",
      "\n",
      "sabtu\n",
      "ini masuk dalam looping\n",
      "\n",
      "minggu\n",
      "ini masuk dalam looping\n",
      "\n",
      "------------\n",
      "ini di luar looping\n"
     ]
    }
   ],
   "source": [
    "days = ['senin','selasa','rabu','kamis','jumat','sabtu','minggu']\n",
    "for day in days:\n",
    "    print(day)\n",
    "    print('ini masuk dalam looping')\n",
    "    print()\n",
    "print('------------')\n",
    "print('ini di luar looping')"
   ]
  },
  {
   "cell_type": "code",
   "execution_count": 147,
   "metadata": {},
   "outputs": [
    {
     "name": "stdout",
     "output_type": "stream",
     "text": [
      "0\n",
      "1\n",
      "2\n",
      "3\n",
      "4\n",
      "5\n",
      "6\n",
      "7\n",
      "8\n",
      "9\n",
      "10\n"
     ]
    }
   ],
   "source": [
    "x = [0,1,2,3,4,5,6,7,8,9,10]\n",
    "for num in x:\n",
    "    print(num)"
   ]
  },
  {
   "cell_type": "code",
   "execution_count": 149,
   "metadata": {},
   "outputs": [
    {
     "name": "stdout",
     "output_type": "stream",
     "text": [
      "0\n",
      "1\n",
      "2\n",
      "3\n",
      "4\n",
      "5\n",
      "6\n",
      "7\n",
      "8\n",
      "9\n",
      "10\n"
     ]
    }
   ],
   "source": [
    "for num in range(0,11):\n",
    "    print(num)"
   ]
  },
  {
   "cell_type": "code",
   "execution_count": 84,
   "metadata": {},
   "outputs": [
    {
     "data": {
      "text/plain": [
       "[0, 1, 2, 3, 4, 5, 6, 7, 8, 9, 10]"
      ]
     },
     "execution_count": 84,
     "metadata": {},
     "output_type": "execute_result"
    }
   ],
   "source": [
    "# List Comprehension\n",
    "a = [num for num in range(0,11)]\n",
    "a"
   ]
  },
  {
   "cell_type": "code",
   "execution_count": 187,
   "metadata": {},
   "outputs": [
    {
     "data": {
      "text/plain": [
       "[[0, 0, 0, 0, 0],\n",
       " [0, 0, 0, 0, 0],\n",
       " [0, 0, 0, 0, 0],\n",
       " [0, 0, 0, 0, 0],\n",
       " [0, 0, 0, 0, 0],\n",
       " [0, 0, 0, 0, 0],\n",
       " [0, 0, 0, 0, 0],\n",
       " [0, 0, 0, 0, 0],\n",
       " [0, 0, 0, 0, 0],\n",
       " [0, 0, 0, 0, 0]]"
      ]
     },
     "execution_count": 187,
     "metadata": {},
     "output_type": "execute_result"
    }
   ],
   "source": [
    "array = [[0]*5 for _ in range(10)]\n",
    "array"
   ]
  },
  {
   "cell_type": "code",
   "execution_count": 159,
   "metadata": {},
   "outputs": [
    {
     "data": {
      "text/plain": [
       "[0, 1, 4, 9, 16, 25, 36, 49, 64, 81]"
      ]
     },
     "execution_count": 159,
     "metadata": {},
     "output_type": "execute_result"
    }
   ],
   "source": [
    "array = []\n",
    "for x in range(0,10):\n",
    "    array.append(x**2)\n",
    "array"
   ]
  },
  {
   "cell_type": "code",
   "execution_count": 188,
   "metadata": {},
   "outputs": [
    {
     "data": {
      "text/plain": [
       "[[0, 1, 2, 3, 4, 5, 6, 7, 8, 9],\n",
       " [1, 2, 3, 4, 5, 6, 7, 8, 9, 10],\n",
       " [2, 3, 4, 5, 6, 7, 8, 9, 10, 11],\n",
       " [3, 4, 5, 6, 7, 8, 9, 10, 11, 12],\n",
       " [4, 5, 6, 7, 8, 9, 10, 11, 12, 13],\n",
       " [5, 6, 7, 8, 9, 10, 11, 12, 13, 14],\n",
       " [6, 7, 8, 9, 10, 11, 12, 13, 14, 15],\n",
       " [7, 8, 9, 10, 11, 12, 13, 14, 15, 16],\n",
       " [8, 9, 10, 11, 12, 13, 14, 15, 16, 17],\n",
       " [9, 10, 11, 12, 13, 14, 15, 16, 17, 18]]"
      ]
     },
     "execution_count": 188,
     "metadata": {},
     "output_type": "execute_result"
    }
   ],
   "source": [
    "# Nested Loop\n",
    "array = [[0]*10 for _ in range(10)]\n",
    "\n",
    "for x in range(0,10):\n",
    "    for y in range(0,10):\n",
    "        array[x][y] = x+y\n",
    "array"
   ]
  },
  {
   "cell_type": "code",
   "execution_count": 85,
   "metadata": {},
   "outputs": [],
   "source": [
    "# [[0, 1, 2, 3, 4, 5, 6, 7, 8, 9], x = 0, y = 0..9\n",
    "#  [1, 2, 3, 4, 5, 6, 7, 8, 9, 10], x = 1, y = 0..9\n",
    "#  [2, 3, 4, 5, 6, 7, 8, 9, 10, 11],\n",
    "#  [3, 4, 5, 6, 7, 8, 9, 10, 11, 12],\n",
    "#  [4, 5, 6, 7, 8, 9, 10, 11, 12, 13],\n",
    "#  [5, 6, 7, 8, 9, 10, 11, 12, 13, 14],\n",
    "#  [6, 7, 8, 9, 10, 11, 12, 13, 14, 15],\n",
    "#  [7, 8, 9, 10, 11, 12, 13, 14, 15, 16],\n",
    "#  [8, 9, 10, 11, 12, 13, 14, 15, 16, 17],\n",
    "#  [9, 10, 11, 12, 13, 14, 15, 16, 17, 18]] x=9, y = 0..9"
   ]
  },
  {
   "cell_type": "markdown",
   "metadata": {},
   "source": [
    "## If"
   ]
  },
  {
   "cell_type": "code",
   "execution_count": 96,
   "metadata": {},
   "outputs": [
    {
     "data": {
      "text/plain": [
       "True"
      ]
     },
     "execution_count": 96,
     "metadata": {},
     "output_type": "execute_result"
    }
   ],
   "source": [
    "a = 1\n",
    "a == 1"
   ]
  },
  {
   "cell_type": "code",
   "execution_count": 97,
   "metadata": {},
   "outputs": [
    {
     "data": {
      "text/plain": [
       "False"
      ]
     },
     "execution_count": 97,
     "metadata": {},
     "output_type": "execute_result"
    }
   ],
   "source": [
    "a == 2"
   ]
  },
  {
   "cell_type": "code",
   "execution_count": 98,
   "metadata": {},
   "outputs": [
    {
     "name": "stdout",
     "output_type": "stream",
     "text": [
      "False\n",
      "True\n",
      "True\n",
      "False\n",
      "True\n",
      "True\n",
      "True\n"
     ]
    }
   ],
   "source": [
    "print('test' == 'TEST')\n",
    "print('test' != 'TEST')\n",
    "print(a != 2)\n",
    "print(a > 2)\n",
    "print(a < 2)\n",
    "print(a <= 1)\n",
    "print(a >= 1)"
   ]
  },
  {
   "cell_type": "markdown",
   "metadata": {},
   "source": [
    "### Logic\n",
    "\n",
    "OR\n",
    "\n",
    "|       | True | False |\n",
    "|-------|------|-------|\n",
    "| True  | True | True  |\n",
    "| False | True | False |\n",
    "\n",
    "AND\n",
    "\n",
    "|       | True | False |\n",
    "|-------|------|-------|\n",
    "| True  | True | False  |\n",
    "| False | False | False |"
   ]
  },
  {
   "cell_type": "code",
   "execution_count": 241,
   "metadata": {},
   "outputs": [
    {
     "name": "stdout",
     "output_type": "stream",
     "text": [
      "True\n",
      "False\n",
      "True\n",
      "False\n"
     ]
    }
   ],
   "source": [
    "nama = 'budi'\n",
    "kelas = 12\n",
    "\n",
    "print(nama == 'budi' and kelas > 10)\n",
    "print(nama == 'budi' and kelas < 10)\n",
    "print(nama == 'budi' or kelas < 10)\n",
    "print(nama == 'andi' or kelas < 10)"
   ]
  },
  {
   "cell_type": "code",
   "execution_count": 112,
   "metadata": {},
   "outputs": [
    {
     "name": "stdout",
     "output_type": "stream",
     "text": [
      "ini dijalankan\n"
     ]
    }
   ],
   "source": [
    "if not False:\n",
    "    print('ini dijalankan')"
   ]
  },
  {
   "cell_type": "code",
   "execution_count": 243,
   "metadata": {},
   "outputs": [
    {
     "name": "stdout",
     "output_type": "stream",
     "text": [
      "Daihatsu\n",
      "\t BMW\n",
      "Honda\n",
      "Toyota\n"
     ]
    }
   ],
   "source": [
    "cars = ['daihatsu', 'bmw', 'honda', 'toyota']\n",
    "\n",
    "for car in cars:\n",
    "    if car == 'bmw':\n",
    "        print('\\t', car.upper())\n",
    "    else:\n",
    "        print(car.title())"
   ]
  },
  {
   "cell_type": "code",
   "execution_count": 113,
   "metadata": {},
   "outputs": [
    {
     "name": "stdout",
     "output_type": "stream",
     "text": [
      "10 berada di dalam [0, 1, 2, 3, 4, 5, 6, 7, 8, 9, 10, 11, 12, 13, 14, 15, 16, 17, 18, 19]\n",
      "15 berada di dalam [0, 1, 2, 3, 4, 5, 6, 7, 8, 9, 10, 11, 12, 13, 14, 15, 16, 17, 18, 19]\n"
     ]
    }
   ],
   "source": [
    "a = 10\n",
    "b = [x for x in range(0,20)]\n",
    "\n",
    "if (a in b):\n",
    "    print(a, 'berada di dalam', b)\n",
    "    \n",
    "c = 25\n",
    "\n",
    "if (c not in b):\n",
    "    print(c, 'tidak berada di dalam', b)\n",
    "else :\n",
    "    print(c, 'berada di dalam', b)"
   ]
  },
  {
   "cell_type": "code",
   "execution_count": 245,
   "metadata": {},
   "outputs": [
    {
     "name": "stdout",
     "output_type": "stream",
     "text": [
      "Bayar Rp5.000,-\n"
     ]
    }
   ],
   "source": [
    "age = 12\n",
    "if age < 4:\n",
    "    print(\"Gratis Masuk\")\n",
    "elif age < 18:\n",
    "    print(\"Bayar Rp5.000,-\")\n",
    "else:\n",
    "    print(\"Bayar Rp10.000,-\")"
   ]
  },
  {
   "cell_type": "code",
   "execution_count": 247,
   "metadata": {},
   "outputs": [
    {
     "name": "stdout",
     "output_type": "stream",
     "text": [
      "Adding mushrooms.\n",
      "Adding extra cheese.\n",
      "\n",
      "Finished making your pizza!\n"
     ]
    }
   ],
   "source": [
    "requested_toppings = ['mushrooms', 'extra cheese']\n",
    "\n",
    "if 'mushrooms' in requested_toppings:\n",
    "    print(\"Adding mushrooms.\")\n",
    "if 'pepperoni' in requested_toppings:\n",
    "    print(\"Adding pepperoni.\")\n",
    "if 'extra cheese'in requested_toppings:\n",
    "    print(\"Adding extra cheese.\")\n",
    "    \n",
    "print(\"\\nFinished making your pizza!\")"
   ]
  },
  {
   "cell_type": "code",
   "execution_count": 248,
   "metadata": {},
   "outputs": [
    {
     "name": "stdout",
     "output_type": "stream",
     "text": [
      "Adding mushrooms.\n",
      "\n",
      "Finished making your pizza!\n"
     ]
    }
   ],
   "source": [
    "requested_toppings = ['mushrooms', 'extra cheese']\n",
    "\n",
    "if 'mushrooms' in requested_toppings:\n",
    "    print(\"Adding mushrooms.\")\n",
    "elif 'pepperoni' in requested_toppings:\n",
    "    print(\"Adding pepperoni.\")\n",
    "elif 'extra cheese'in requested_toppings:\n",
    "    print(\"Adding extra cheese.\")\n",
    "    \n",
    "print(\"\\nFinished making your pizza!\")"
   ]
  },
  {
   "cell_type": "code",
   "execution_count": 114,
   "metadata": {},
   "outputs": [
    {
     "name": "stdout",
     "output_type": "stream",
     "text": [
      "Adding mushrooms.\n",
      "Sorry, we don't have french fries.\n",
      "Adding extra cheese.\n",
      "Adding pineapple.\n",
      "You get a special price\n",
      "Adding olives.\n",
      "You get a special price\n",
      "\n",
      "Finished making your pizza!\n"
     ]
    }
   ],
   "source": [
    "available_toppings = ['mushrooms', 'olives', 'green peppers','pepperoni', 'pineapple', 'extra cheese']\n",
    "requested_toppings = ['mushrooms', 'french fries', 'extra cheese', 'pineapple', 'olives']\n",
    "num_of_toppings = 0\n",
    "\n",
    "for requested_topping in requested_toppings:\n",
    "    if requested_topping in available_toppings:\n",
    "        print(\"Adding \" + requested_topping + \".\")\n",
    "        num_of_toppings += 1\n",
    "        if num_of_toppings > 2:\n",
    "            print('You get a special price')\n",
    "    else:\n",
    "        print(\"Sorry, we don't have \" + requested_topping + \".\")\n",
    "print(\"\\nFinished making your pizza!\")"
   ]
  },
  {
   "cell_type": "markdown",
   "metadata": {},
   "source": [
    "## Dictionaries\n"
   ]
  },
  {
   "cell_type": "code",
   "execution_count": 116,
   "metadata": {},
   "outputs": [
    {
     "data": {
      "text/plain": [
       "{'hobi': ['makan', 'tidur', 'hilang'], 'jenis': 'kucing', 'nama': 'meong'}"
      ]
     },
     "execution_count": 116,
     "metadata": {},
     "output_type": "execute_result"
    }
   ],
   "source": [
    "peliharaan = {\n",
    "    \"nama\": \"meong\",\n",
    "    \"jenis\": \"kucing\",\n",
    "    \"hobi\": [\"makan\", \"tidur\", \"hilang\"]\n",
    "}\n",
    "peliharaan"
   ]
  },
  {
   "cell_type": "code",
   "execution_count": 117,
   "metadata": {},
   "outputs": [
    {
     "data": {
      "text/plain": [
       "dict_keys(['nama', 'jenis', 'hobi'])"
      ]
     },
     "execution_count": 117,
     "metadata": {},
     "output_type": "execute_result"
    }
   ],
   "source": [
    "peliharaan.keys()"
   ]
  },
  {
   "cell_type": "code",
   "execution_count": 118,
   "metadata": {},
   "outputs": [
    {
     "name": "stdout",
     "output_type": "stream",
     "text": [
      "Aku punya kucing namanya meong yang sukanya makan \n"
     ]
    }
   ],
   "source": [
    "print('Aku punya %s namanya %s yang sukanya %s ' % (peliharaan['jenis'], peliharaan['nama'], peliharaan['hobi'][0]))"
   ]
  },
  {
   "cell_type": "code",
   "execution_count": 127,
   "metadata": {},
   "outputs": [
    {
     "data": {
      "text/plain": [
       "{'alias': 'miauw',\n",
       " 'hobi': ['makan', 'tidur', 'hilang'],\n",
       " 'jenis': 'kucing',\n",
       " 'nama': 'meong',\n",
       " 'umur': 2}"
      ]
     },
     "execution_count": 127,
     "metadata": {},
     "output_type": "execute_result"
    }
   ],
   "source": [
    "peliharaan[\"umur\"] = 2\n",
    "peliharaan[\"alias\"] = 'miauw'\n",
    "peliharaan"
   ]
  },
  {
   "cell_type": "code",
   "execution_count": 133,
   "metadata": {},
   "outputs": [
    {
     "data": {
      "text/plain": [
       "{'alias': 'miauw',\n",
       " 'hobi': ['makan', 'tidur', 'hilang'],\n",
       " 'jenis': 'kucing',\n",
       " 'nama': 'doni',\n",
       " 'namas': 'doni',\n",
       " 'umur': 2}"
      ]
     },
     "execution_count": 133,
     "metadata": {},
     "output_type": "execute_result"
    }
   ],
   "source": [
    "peliharaan[\"namas\"] = \"doni\"\n",
    "peliharaan"
   ]
  },
  {
   "cell_type": "code",
   "execution_count": 134,
   "metadata": {},
   "outputs": [
    {
     "data": {
      "text/plain": [
       "{'alias': 'miauw',\n",
       " 'hobi': ['makan', 'tidur', 'hilang'],\n",
       " 'jenis': 'kucing',\n",
       " 'nama': 'doni',\n",
       " 'umur': 2}"
      ]
     },
     "execution_count": 134,
     "metadata": {},
     "output_type": "execute_result"
    }
   ],
   "source": [
    "del peliharaan['namas']\n",
    "peliharaan"
   ]
  },
  {
   "cell_type": "code",
   "execution_count": 147,
   "metadata": {},
   "outputs": [
    {
     "name": "stdout",
     "output_type": "stream",
     "text": [
      "agus mendapat nilai 8.1\n",
      "Selamat!\n",
      "andi mendapat nilai 9.0\n",
      "Selamat!\n",
      "budi mendapat nilai 7.5\n",
      "Belajar Lagi\n",
      "sari mendapat nilai 7.0\n",
      "Belajar Lagi\n"
     ]
    }
   ],
   "source": [
    "nilais = {\n",
    "    \"agus\":8.1,\n",
    "    \"andi\":9.0,\n",
    "    \"budi\":7.5,\n",
    "    \"sari\":7.0\n",
    "}\n",
    "\n",
    "for nama, nilai in nilais.items():\n",
    "    print(nama, 'mendapat nilai', nilai)\n",
    "    if nilai >= 8:\n",
    "        print('Selamat!')\n",
    "    else:\n",
    "        print('Belajar Lagi')"
   ]
  },
  {
   "cell_type": "code",
   "execution_count": 155,
   "metadata": {},
   "outputs": [
    {
     "name": "stdout",
     "output_type": "stream",
     "text": [
      "<class 'dict'>\n",
      "<class 'float'>\n",
      "dict_items([('agus', 8.1), ('andi', 9.0), ('budi', 7.5), ('sari', 7.0)])\n"
     ]
    }
   ],
   "source": [
    "print(type(nilais))\n",
    "print(type(nilai))\n",
    "print(nilais.items())"
   ]
  },
  {
   "cell_type": "markdown",
   "metadata": {},
   "source": [
    "### Nested Dict"
   ]
  },
  {
   "cell_type": "code",
   "execution_count": 157,
   "metadata": {},
   "outputs": [
    {
     "name": "stdout",
     "output_type": "stream",
     "text": [
      "{'color': 'green', 'points': 5}\n",
      "{'color': 'yellow', 'points': 10}\n",
      "{'color': 'red', 'points': 15}\n"
     ]
    }
   ],
   "source": [
    "alien_0 = {'color': 'green', 'points': 5}\n",
    "alien_1 = {'color': 'yellow', 'points': 10}\n",
    "alien_2 = {'color': 'red', 'points': 15}\n",
    "aliens = [alien_0, alien_1, alien_2]\n",
    "\n",
    "for alien in aliens:\n",
    "    print(alien)"
   ]
  },
  {
   "cell_type": "code",
   "execution_count": 160,
   "metadata": {},
   "outputs": [
    {
     "name": "stdout",
     "output_type": "stream",
     "text": [
      "\n",
      "Username: aeinstein\n",
      "\tFull name: Albert Einstein\n",
      "\tLocation: Princeton\n",
      "\n",
      "Username: mcurie\n",
      "\tFull name: Marie Curie\n",
      "\tLocation: Paris\n"
     ]
    }
   ],
   "source": [
    "users = {\n",
    "    'aeinstein': {\n",
    "        'first': 'albert',\n",
    "        'last': 'einstein',\n",
    "        'location': 'princeton',\n",
    "    },\n",
    "    'mcurie': {\n",
    "        'first': 'marie',\n",
    "        'last': 'curie',\n",
    "        'location': 'paris',\n",
    "    }\n",
    "}\n",
    "\n",
    "for username, user_info in users.items():\n",
    "    print(\"\\nUsername: \" + username)\n",
    "    \n",
    "    print(\"\\tFull name: \" + (user_info['first'] + \" \" + user_info['last']).title())\n",
    "    print(\"\\tLocation: \" + user_info['location'].title())"
   ]
  },
  {
   "cell_type": "markdown",
   "metadata": {},
   "source": [
    "## Fungsi"
   ]
  },
  {
   "cell_type": "code",
   "execution_count": 259,
   "metadata": {},
   "outputs": [],
   "source": [
    "def greet():\n",
    "    print(\"Hello!\")"
   ]
  },
  {
   "cell_type": "code",
   "execution_count": 260,
   "metadata": {},
   "outputs": [
    {
     "name": "stdout",
     "output_type": "stream",
     "text": [
      "Hello!\n"
     ]
    }
   ],
   "source": [
    "greet()"
   ]
  },
  {
   "cell_type": "code",
   "execution_count": 261,
   "metadata": {},
   "outputs": [],
   "source": [
    "def greet(nama):\n",
    "    print(\"Hello\", nama, \"!\")"
   ]
  },
  {
   "cell_type": "code",
   "execution_count": 262,
   "metadata": {},
   "outputs": [
    {
     "name": "stdout",
     "output_type": "stream",
     "text": [
      "Hello budi !\n"
     ]
    }
   ],
   "source": [
    "greet('budi')"
   ]
  },
  {
   "cell_type": "code",
   "execution_count": 172,
   "metadata": {},
   "outputs": [],
   "source": [
    "def greeting(nama, umur, jk, nationality='indonesia', rumah='di atas bumi'):\n",
    "    if nationality == 'indonesia':\n",
    "        print('Selamat Pagi', nama, umur, jk, nationality, rumah)\n",
    "    else:\n",
    "        print(\"Hello\", nama, \"from\", nationality, umur, jk, rumah)"
   ]
  },
  {
   "cell_type": "code",
   "execution_count": 174,
   "metadata": {},
   "outputs": [
    {
     "name": "stdout",
     "output_type": "stream",
     "text": [
      "Selamat Pagi tegar 17 L indonesia Surabaya\n"
     ]
    }
   ],
   "source": [
    "greeting('tegar', 17, 'L',rumah='Surabaya')"
   ]
  },
  {
   "cell_type": "code",
   "execution_count": 175,
   "metadata": {},
   "outputs": [
    {
     "ename": "TypeError",
     "evalue": "greeting() missing 1 required positional argument: 'jk'",
     "output_type": "error",
     "traceback": [
      "\u001b[0;31m---------------------------------------------------------------------------\u001b[0m",
      "\u001b[0;31mTypeError\u001b[0m                                 Traceback (most recent call last)",
      "\u001b[0;32m<ipython-input-175-7f9b81958417>\u001b[0m in \u001b[0;36m<module>\u001b[0;34m()\u001b[0m\n\u001b[0;32m----> 1\u001b[0;31m \u001b[0mgreeting\u001b[0m\u001b[0;34m(\u001b[0m\u001b[0;34m'Japan'\u001b[0m\u001b[0;34m,\u001b[0m\u001b[0;34m'tegar'\u001b[0m\u001b[0;34m)\u001b[0m\u001b[0;34m\u001b[0m\u001b[0m\n\u001b[0m",
      "\u001b[0;31mTypeError\u001b[0m: greeting() missing 1 required positional argument: 'jk'"
     ]
    }
   ],
   "source": [
    "greeting('Japan','tegar')"
   ]
  },
  {
   "cell_type": "code",
   "execution_count": 161,
   "metadata": {},
   "outputs": [
    {
     "name": "stdout",
     "output_type": "stream",
     "text": [
      "\n",
      "I have a harry.\n",
      "My harry's name is Hamster.\n",
      "\n",
      "I have a hamster.\n",
      "My hamster's name is Harry.\n",
      "\n",
      "I have a hamster.\n",
      "My hamster's name is Harry.\n"
     ]
    }
   ],
   "source": [
    "def describe_pet(animal_type, pet_name):\n",
    "    print(\"\\nI have a \" + animal_type + \".\")\n",
    "    print(\"My \" + animal_type + \"'s name is \" + pet_name.title() + \".\")\n",
    "\n",
    "describe_pet('harry', 'hamster')\n",
    "describe_pet(pet_name='harry', animal_type='hamster')\n",
    "describe_pet(animal_type='hamster',pet_name='harry')"
   ]
  },
  {
   "cell_type": "code",
   "execution_count": 177,
   "metadata": {},
   "outputs": [
    {
     "data": {
      "text/plain": [
       "0"
      ]
     },
     "execution_count": 177,
     "metadata": {},
     "output_type": "execute_result"
    }
   ],
   "source": [
    "def perhitungan(num1, num2, operator = '+'):\n",
    "    if operator == '+':\n",
    "        return num1+num2\n",
    "    elif operator == '-':\n",
    "        return num1-num2\n",
    "    else:\n",
    "        return 0\n",
    "\n",
    "perhitungan(10,5,'*')"
   ]
  },
  {
   "cell_type": "code",
   "execution_count": 179,
   "metadata": {},
   "outputs": [
    {
     "name": "stdout",
     "output_type": "stream",
     "text": [
      "a = 5 b = 10\n"
     ]
    }
   ],
   "source": [
    "def swap(a, b):\n",
    "    return b, a\n",
    "\n",
    "a = 10\n",
    "b = 5\n",
    "a, b = swap(a,b)\n",
    "print('a =', a, 'b =', b)"
   ]
  },
  {
   "cell_type": "code",
   "execution_count": 180,
   "metadata": {},
   "outputs": [
    {
     "name": "stdout",
     "output_type": "stream",
     "text": [
      "a = 5 b = 10\n"
     ]
    }
   ],
   "source": [
    "a = 10\n",
    "b = 5\n",
    "a, b = (b, a)\n",
    "print('a =', a, 'b =', b)"
   ]
  },
  {
   "cell_type": "code",
   "execution_count": null,
   "metadata": {},
   "outputs": [],
   "source": [
    "red, green, blue = cv.split(image)"
   ]
  },
  {
   "cell_type": "code",
   "execution_count": 186,
   "metadata": {},
   "outputs": [
    {
     "data": {
      "text/plain": [
       "1"
      ]
     },
     "execution_count": 186,
     "metadata": {},
     "output_type": "execute_result"
    }
   ],
   "source": [
    "a = (1, 2)\n",
    "a[0]"
   ]
  },
  {
   "cell_type": "code",
   "execution_count": 187,
   "metadata": {},
   "outputs": [
    {
     "ename": "TypeError",
     "evalue": "'tuple' object does not support item assignment",
     "output_type": "error",
     "traceback": [
      "\u001b[0;31m---------------------------------------------------------------------------\u001b[0m",
      "\u001b[0;31mTypeError\u001b[0m                                 Traceback (most recent call last)",
      "\u001b[0;32m<ipython-input-187-4c17ffa2880b>\u001b[0m in \u001b[0;36m<module>\u001b[0;34m()\u001b[0m\n\u001b[0;32m----> 1\u001b[0;31m \u001b[0ma\u001b[0m\u001b[0;34m[\u001b[0m\u001b[0;36m0\u001b[0m\u001b[0;34m]\u001b[0m \u001b[0;34m=\u001b[0m \u001b[0;36m9\u001b[0m\u001b[0;34m\u001b[0m\u001b[0m\n\u001b[0m\u001b[1;32m      2\u001b[0m \u001b[0ma\u001b[0m\u001b[0;34m\u001b[0m\u001b[0m\n",
      "\u001b[0;31mTypeError\u001b[0m: 'tuple' object does not support item assignment"
     ]
    }
   ],
   "source": [
    "a[0] = 9\n",
    "a"
   ]
  },
  {
   "cell_type": "markdown",
   "metadata": {},
   "source": [
    "## Pewaktuan\n",
    "\n",
    "Untuk mengetahui berapa lama program tersebut berjalan"
   ]
  },
  {
   "cell_type": "code",
   "execution_count": 188,
   "metadata": {},
   "outputs": [
    {
     "name": "stdout",
     "output_type": "stream",
     "text": [
      "1519218239.0619135 detik semenjak 01 Januari 1970. (UTC)\n"
     ]
    }
   ],
   "source": [
    "import time\n",
    "millis = time.time()\n",
    "print(millis, \"detik semenjak 01 Januari 1970. (UTC)\")"
   ]
  },
  {
   "cell_type": "code",
   "execution_count": 189,
   "metadata": {},
   "outputs": [
    {
     "name": "stdout",
     "output_type": "stream",
     "text": [
      "hello world\n",
      "0.0012230873107910156 detik\n",
      "1.2230873107910156 milidetik\n"
     ]
    }
   ],
   "source": [
    "start = time.time()\n",
    "print('hello world')\n",
    "end = time.time()\n",
    "print(end-start, 'detik')\n",
    "print((end-start)*1000, 'milidetik')"
   ]
  },
  {
   "cell_type": "code",
   "execution_count": 77,
   "metadata": {},
   "outputs": [],
   "source": [
    "import time                                                \n",
    "\n",
    "def timeit(method):\n",
    "\n",
    "    def timed():\n",
    "        start = time.time()\n",
    "        result = method()\n",
    "        end = time.time()\n",
    "\n",
    "        print('%f milidetik' % ((end-start)*1000))\n",
    "        return result\n",
    "\n",
    "    return timed"
   ]
  },
  {
   "cell_type": "code",
   "execution_count": 78,
   "metadata": {},
   "outputs": [
    {
     "name": "stdout",
     "output_type": "stream",
     "text": [
      "hellow world\n",
      "0.260830 milidetik\n"
     ]
    }
   ],
   "source": [
    "@timeit\n",
    "def helloworld():\n",
    "    print('hellow world')\n",
    "    \n",
    "helloworld()"
   ]
  },
  {
   "cell_type": "markdown",
   "metadata": {},
   "source": [
    "## Files"
   ]
  },
  {
   "cell_type": "code",
   "execution_count": 198,
   "metadata": {},
   "outputs": [
    {
     "name": "stdout",
     "output_type": "stream",
     "text": [
      "Baked\n",
      "-----\n",
      "Lovely\n",
      "-----\n",
      "Wonderful\n",
      "-----\n",
      "tegar\n",
      "-----\n",
      "535.5\n"
     ]
    }
   ],
   "source": [
    "import csv\n",
    "with open('names.csv') as csvfile:\n",
    "    reader = csv.DictReader(csvfile)\n",
    "    jumlah = 0\n",
    "    for row in reader:\n",
    "        print(row['first_name'])\n",
    "        print(row['last_name'])\n",
    "        print('-----')\n",
    "    \n",
    "    print(jumlah)"
   ]
  },
  {
   "cell_type": "code",
   "execution_count": 201,
   "metadata": {},
   "outputs": [
    {
     "name": "stdout",
     "output_type": "stream",
     "text": [
      "1\n",
      "-----\n",
      "123\n",
      "-----\n",
      "321\n",
      "-----\n",
      "90.5\n",
      "-----\n",
      "[1.0, 123.0, 321.0, 90.5]\n",
      "1.0\n",
      "321.0\n"
     ]
    }
   ],
   "source": [
    "import csv\n",
    "\n",
    "a = []\n",
    "\n",
    "with open('names.csv') as csvfile:\n",
    "    reader = csv.DictReader(csvfile)\n",
    "    jumlah = 0\n",
    "    for row in reader:\n",
    "        a.append(float(row['last_name']))\n",
    "        print(row['last_name'])\n",
    "        print('-----')\n",
    "    \n",
    "print(a)\n",
    "print(min(a))\n",
    "print(max(a))"
   ]
  },
  {
   "cell_type": "code",
   "execution_count": null,
   "metadata": {},
   "outputs": [],
   "source": []
  }
 ],
 "metadata": {
  "kernelspec": {
   "display_name": "Python 3",
   "language": "python",
   "name": "python3"
  },
  "language_info": {
   "codemirror_mode": {
    "name": "ipython",
    "version": 3
   },
   "file_extension": ".py",
   "mimetype": "text/x-python",
   "name": "python",
   "nbconvert_exporter": "python",
   "pygments_lexer": "ipython3",
   "version": "3.6.3"
  }
 },
 "nbformat": 4,
 "nbformat_minor": 2
}
